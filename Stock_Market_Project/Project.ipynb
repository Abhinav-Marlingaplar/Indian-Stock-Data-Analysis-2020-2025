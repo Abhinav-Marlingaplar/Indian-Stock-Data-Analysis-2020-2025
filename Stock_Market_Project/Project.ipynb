{
 "cells": [
  {
   "cell_type": "markdown",
   "id": "0b5bfb8c-55bd-4e93-beb9-b74496681630",
   "metadata": {},
   "source": [
    "# Exploratory Data Analysis of Indian Stock Market Performance (2020-2025)"
   ]
  },
  {
   "cell_type": "markdown",
   "id": "7fa17524-eaa7-406d-8e1d-429c9e949bea",
   "metadata": {},
   "source": [
    "# Introduction\n",
    "\n",
    "#### This project analyzes the historical stock performance of three major Indian companies:\n",
    "\n",
    "##### * Reliance Industries (RELIANCE.NS)\n",
    "##### * Larsen & Toubro (LT.NS)\n",
    "##### * Tata Consultancy Services (TCS.NS)\n",
    "\n",
    "#### The analysis uses Python and the yfinance library to obtain the stock data. \n",
    "#### The analysis covers the period from January 1, 2020, to May 10, 2025.  Key aspects of the analysis include:\n",
    "\n",
    "##### * Adjusted closing prices\n",
    "##### * Normalized prices\n",
    "##### * Daily returns\n",
    "##### * Technical indicators (Simple Moving Average and Relative Strength Index)\n",
    "\n",
    "#### The goal is to understand each stock's growth, volatility, and risk-reward profile during this period, which includes the COVID-19 pandemic and its subsequent market recovery."
   ]
  },
  {
   "cell_type": "markdown",
   "id": "006b9483-cb3f-4d85-9beb-04fdf9b67c9d",
   "metadata": {},
   "source": [
    "# Importing Necessary Libraries"
   ]
  },
  {
   "cell_type": "code",
   "execution_count": 1,
   "id": "b1d975ab-2f7c-468e-8920-eee1b5f9bb11",
   "metadata": {},
   "outputs": [],
   "source": [
    "import yfinance as yf\n",
    "import pandas as pd\n",
    "import matplotlib.pyplot as plt\n",
    "import matplotlib.dates as mdates\n",
    "import seaborn as sns"
   ]
  },
  {
   "cell_type": "markdown",
   "id": "442c017d-d408-42ef-9633-43c7f2eb44ae",
   "metadata": {},
   "source": [
    "# 1. Define Stock Tickers and Time Period"
   ]
  },
  {
   "cell_type": "code",
   "execution_count": 2,
   "id": "f8be15ba-c49d-4311-a13d-d12ab0411043",
   "metadata": {},
   "outputs": [],
   "source": [
    "tickers = [\"RELIANCE.NS\", \"LT.NS\", \"TCS.NS\"]\n",
    "start_date = \"2020-01-01\"\n",
    "end_date = \"2025-05-10\"  # Using today's date"
   ]
  },
  {
   "cell_type": "markdown",
   "id": "55b60339-46c5-406a-94b4-1021c0417148",
   "metadata": {},
   "source": [
    "# 2. Download Historical Stock Data"
   ]
  },
  {
   "cell_type": "code",
   "execution_count": 3,
   "id": "3c2573ad-6fbb-4fa5-bea0-84052700c54c",
   "metadata": {},
   "outputs": [
    {
     "name": "stdout",
     "output_type": "stream",
     "text": [
      "YF.download() has changed argument auto_adjust default to True\n"
     ]
    },
    {
     "name": "stderr",
     "output_type": "stream",
     "text": [
      "[*********************100%***********************]  3 of 3 completed\n"
     ]
    }
   ],
   "source": [
    "data = yf.download(tickers, start=start_date, end=end_date)"
   ]
  },
  {
   "cell_type": "markdown",
   "id": "23132cec-f51d-4a53-bcb7-1df43eb7c811",
   "metadata": {},
   "source": [
    "# 3. Initial Data Inspection"
   ]
  },
  {
   "cell_type": "markdown",
   "id": "e064c144-961a-4531-b202-da185c8e3d45",
   "metadata": {},
   "source": [
    "### 3.1 Display the first few rows"
   ]
  },
  {
   "cell_type": "code",
   "execution_count": 4,
   "id": "afa5716f-09ae-4169-9ad2-2d71e04818df",
   "metadata": {},
   "outputs": [
    {
     "name": "stdout",
     "output_type": "stream",
     "text": [
      "\n",
      "First 5 rows of the downloaded data:\n"
     ]
    },
    {
     "data": {
      "text/html": [
       "<div>\n",
       "<style scoped>\n",
       "    .dataframe tbody tr th:only-of-type {\n",
       "        vertical-align: middle;\n",
       "    }\n",
       "\n",
       "    .dataframe tbody tr th {\n",
       "        vertical-align: top;\n",
       "    }\n",
       "\n",
       "    .dataframe thead tr th {\n",
       "        text-align: left;\n",
       "    }\n",
       "\n",
       "    .dataframe thead tr:last-of-type th {\n",
       "        text-align: right;\n",
       "    }\n",
       "</style>\n",
       "<table border=\"1\" class=\"dataframe\">\n",
       "  <thead>\n",
       "    <tr>\n",
       "      <th>Price</th>\n",
       "      <th colspan=\"3\" halign=\"left\">Close</th>\n",
       "      <th colspan=\"3\" halign=\"left\">High</th>\n",
       "      <th colspan=\"3\" halign=\"left\">Low</th>\n",
       "      <th colspan=\"3\" halign=\"left\">Open</th>\n",
       "      <th colspan=\"3\" halign=\"left\">Volume</th>\n",
       "    </tr>\n",
       "    <tr>\n",
       "      <th>Ticker</th>\n",
       "      <th>LT.NS</th>\n",
       "      <th>RELIANCE.NS</th>\n",
       "      <th>TCS.NS</th>\n",
       "      <th>LT.NS</th>\n",
       "      <th>RELIANCE.NS</th>\n",
       "      <th>TCS.NS</th>\n",
       "      <th>LT.NS</th>\n",
       "      <th>RELIANCE.NS</th>\n",
       "      <th>TCS.NS</th>\n",
       "      <th>LT.NS</th>\n",
       "      <th>RELIANCE.NS</th>\n",
       "      <th>TCS.NS</th>\n",
       "      <th>LT.NS</th>\n",
       "      <th>RELIANCE.NS</th>\n",
       "      <th>TCS.NS</th>\n",
       "    </tr>\n",
       "    <tr>\n",
       "      <th>Date</th>\n",
       "      <th></th>\n",
       "      <th></th>\n",
       "      <th></th>\n",
       "      <th></th>\n",
       "      <th></th>\n",
       "      <th></th>\n",
       "      <th></th>\n",
       "      <th></th>\n",
       "      <th></th>\n",
       "      <th></th>\n",
       "      <th></th>\n",
       "      <th></th>\n",
       "      <th></th>\n",
       "      <th></th>\n",
       "      <th></th>\n",
       "    </tr>\n",
       "  </thead>\n",
       "  <tbody>\n",
       "    <tr>\n",
       "      <th>2020-01-01</th>\n",
       "      <td>1195.268799</td>\n",
       "      <td>685.105896</td>\n",
       "      <td>1975.343384</td>\n",
       "      <td>1203.435327</td>\n",
       "      <td>693.047985</td>\n",
       "      <td>1990.197467</td>\n",
       "      <td>1188.927290</td>\n",
       "      <td>683.245235</td>\n",
       "      <td>1962.949556</td>\n",
       "      <td>1193.854562</td>\n",
       "      <td>688.918104</td>\n",
       "      <td>1975.707817</td>\n",
       "      <td>3123998</td>\n",
       "      <td>14004468</td>\n",
       "      <td>1354908</td>\n",
       "    </tr>\n",
       "    <tr>\n",
       "      <th>2020-01-02</th>\n",
       "      <td>1227.524048</td>\n",
       "      <td>696.769470</td>\n",
       "      <td>1966.275513</td>\n",
       "      <td>1229.987628</td>\n",
       "      <td>699.333643</td>\n",
       "      <td>1986.597642</td>\n",
       "      <td>1196.226840</td>\n",
       "      <td>686.195165</td>\n",
       "      <td>1958.575036</td>\n",
       "      <td>1197.139294</td>\n",
       "      <td>686.195165</td>\n",
       "      <td>1986.597642</td>\n",
       "      <td>4335359</td>\n",
       "      <td>17710316</td>\n",
       "      <td>2380752</td>\n",
       "    </tr>\n",
       "    <tr>\n",
       "      <th>2020-01-03</th>\n",
       "      <td>1218.171509</td>\n",
       "      <td>697.609070</td>\n",
       "      <td>2005.461182</td>\n",
       "      <td>1227.204712</td>\n",
       "      <td>699.651320</td>\n",
       "      <td>2025.828916</td>\n",
       "      <td>1213.700463</td>\n",
       "      <td>691.187307</td>\n",
       "      <td>1972.061977</td>\n",
       "      <td>1227.204712</td>\n",
       "      <td>695.725627</td>\n",
       "      <td>1972.061977</td>\n",
       "      <td>2059871</td>\n",
       "      <td>20984698</td>\n",
       "      <td>4655761</td>\n",
       "    </tr>\n",
       "    <tr>\n",
       "      <th>2020-01-06</th>\n",
       "      <td>1201.473511</td>\n",
       "      <td>681.429932</td>\n",
       "      <td>2005.279175</td>\n",
       "      <td>1215.388431</td>\n",
       "      <td>693.411078</td>\n",
       "      <td>2028.517431</td>\n",
       "      <td>1199.055486</td>\n",
       "      <td>679.841502</td>\n",
       "      <td>1993.842263</td>\n",
       "      <td>1214.475977</td>\n",
       "      <td>689.825841</td>\n",
       "      <td>2009.425653</td>\n",
       "      <td>2646905</td>\n",
       "      <td>24519177</td>\n",
       "      <td>3023209</td>\n",
       "    </tr>\n",
       "    <tr>\n",
       "      <th>2020-01-07</th>\n",
       "      <td>1204.895264</td>\n",
       "      <td>691.913452</td>\n",
       "      <td>2010.200317</td>\n",
       "      <td>1222.231886</td>\n",
       "      <td>696.406390</td>\n",
       "      <td>2018.219616</td>\n",
       "      <td>1198.736200</td>\n",
       "      <td>686.875870</td>\n",
       "      <td>1990.106017</td>\n",
       "      <td>1211.738667</td>\n",
       "      <td>689.371940</td>\n",
       "      <td>2005.324751</td>\n",
       "      <td>2077893</td>\n",
       "      <td>16683622</td>\n",
       "      <td>2429317</td>\n",
       "    </tr>\n",
       "  </tbody>\n",
       "</table>\n",
       "</div>"
      ],
      "text/plain": [
       "Price             Close                                  High              \\\n",
       "Ticker            LT.NS RELIANCE.NS       TCS.NS        LT.NS RELIANCE.NS   \n",
       "Date                                                                        \n",
       "2020-01-01  1195.268799  685.105896  1975.343384  1203.435327  693.047985   \n",
       "2020-01-02  1227.524048  696.769470  1966.275513  1229.987628  699.333643   \n",
       "2020-01-03  1218.171509  697.609070  2005.461182  1227.204712  699.651320   \n",
       "2020-01-06  1201.473511  681.429932  2005.279175  1215.388431  693.411078   \n",
       "2020-01-07  1204.895264  691.913452  2010.200317  1222.231886  696.406390   \n",
       "\n",
       "Price                            Low                                  Open  \\\n",
       "Ticker           TCS.NS        LT.NS RELIANCE.NS       TCS.NS        LT.NS   \n",
       "Date                                                                         \n",
       "2020-01-01  1990.197467  1188.927290  683.245235  1962.949556  1193.854562   \n",
       "2020-01-02  1986.597642  1196.226840  686.195165  1958.575036  1197.139294   \n",
       "2020-01-03  2025.828916  1213.700463  691.187307  1972.061977  1227.204712   \n",
       "2020-01-06  2028.517431  1199.055486  679.841502  1993.842263  1214.475977   \n",
       "2020-01-07  2018.219616  1198.736200  686.875870  1990.106017  1211.738667   \n",
       "\n",
       "Price                                 Volume                       \n",
       "Ticker     RELIANCE.NS       TCS.NS    LT.NS RELIANCE.NS   TCS.NS  \n",
       "Date                                                               \n",
       "2020-01-01  688.918104  1975.707817  3123998    14004468  1354908  \n",
       "2020-01-02  686.195165  1986.597642  4335359    17710316  2380752  \n",
       "2020-01-03  695.725627  1972.061977  2059871    20984698  4655761  \n",
       "2020-01-06  689.825841  2009.425653  2646905    24519177  3023209  \n",
       "2020-01-07  689.371940  2005.324751  2077893    16683622  2429317  "
      ]
     },
     "execution_count": 4,
     "metadata": {},
     "output_type": "execute_result"
    }
   ],
   "source": [
    "print(\"\\nFirst 5 rows of the downloaded data:\")\n",
    "data.head()"
   ]
  },
  {
   "cell_type": "markdown",
   "id": "c00e66f5-71eb-4548-aa00-5c17d9d2ceae",
   "metadata": {},
   "source": [
    "### 3.2 Display the last few rows"
   ]
  },
  {
   "cell_type": "code",
   "execution_count": 5,
   "id": "89cba0a6-dbb7-4161-a335-230f3a97d3a1",
   "metadata": {},
   "outputs": [
    {
     "name": "stdout",
     "output_type": "stream",
     "text": [
      "\n",
      "Last 5 rows of the downloaded data:\n"
     ]
    },
    {
     "data": {
      "text/html": [
       "<div>\n",
       "<style scoped>\n",
       "    .dataframe tbody tr th:only-of-type {\n",
       "        vertical-align: middle;\n",
       "    }\n",
       "\n",
       "    .dataframe tbody tr th {\n",
       "        vertical-align: top;\n",
       "    }\n",
       "\n",
       "    .dataframe thead tr th {\n",
       "        text-align: left;\n",
       "    }\n",
       "\n",
       "    .dataframe thead tr:last-of-type th {\n",
       "        text-align: right;\n",
       "    }\n",
       "</style>\n",
       "<table border=\"1\" class=\"dataframe\">\n",
       "  <thead>\n",
       "    <tr>\n",
       "      <th>Price</th>\n",
       "      <th colspan=\"3\" halign=\"left\">Close</th>\n",
       "      <th colspan=\"3\" halign=\"left\">High</th>\n",
       "      <th colspan=\"3\" halign=\"left\">Low</th>\n",
       "      <th colspan=\"3\" halign=\"left\">Open</th>\n",
       "      <th colspan=\"3\" halign=\"left\">Volume</th>\n",
       "    </tr>\n",
       "    <tr>\n",
       "      <th>Ticker</th>\n",
       "      <th>LT.NS</th>\n",
       "      <th>RELIANCE.NS</th>\n",
       "      <th>TCS.NS</th>\n",
       "      <th>LT.NS</th>\n",
       "      <th>RELIANCE.NS</th>\n",
       "      <th>TCS.NS</th>\n",
       "      <th>LT.NS</th>\n",
       "      <th>RELIANCE.NS</th>\n",
       "      <th>TCS.NS</th>\n",
       "      <th>LT.NS</th>\n",
       "      <th>RELIANCE.NS</th>\n",
       "      <th>TCS.NS</th>\n",
       "      <th>LT.NS</th>\n",
       "      <th>RELIANCE.NS</th>\n",
       "      <th>TCS.NS</th>\n",
       "    </tr>\n",
       "    <tr>\n",
       "      <th>Date</th>\n",
       "      <th></th>\n",
       "      <th></th>\n",
       "      <th></th>\n",
       "      <th></th>\n",
       "      <th></th>\n",
       "      <th></th>\n",
       "      <th></th>\n",
       "      <th></th>\n",
       "      <th></th>\n",
       "      <th></th>\n",
       "      <th></th>\n",
       "      <th></th>\n",
       "      <th></th>\n",
       "      <th></th>\n",
       "      <th></th>\n",
       "    </tr>\n",
       "  </thead>\n",
       "  <tbody>\n",
       "    <tr>\n",
       "      <th>2025-05-05</th>\n",
       "      <td>3330.199951</td>\n",
       "      <td>1431.300049</td>\n",
       "      <td>3454.300049</td>\n",
       "      <td>3350.000000</td>\n",
       "      <td>1439.500000</td>\n",
       "      <td>3504.500000</td>\n",
       "      <td>3300.699951</td>\n",
       "      <td>1426.900024</td>\n",
       "      <td>3446.399902</td>\n",
       "      <td>3350.000000</td>\n",
       "      <td>1431.000000</td>\n",
       "      <td>3450.000000</td>\n",
       "      <td>1947332</td>\n",
       "      <td>12685649</td>\n",
       "      <td>1284443</td>\n",
       "    </tr>\n",
       "    <tr>\n",
       "      <th>2025-05-06</th>\n",
       "      <td>3334.000000</td>\n",
       "      <td>1420.900024</td>\n",
       "      <td>3460.000000</td>\n",
       "      <td>3353.000000</td>\n",
       "      <td>1432.000000</td>\n",
       "      <td>3473.000000</td>\n",
       "      <td>3302.800049</td>\n",
       "      <td>1410.599976</td>\n",
       "      <td>3437.000000</td>\n",
       "      <td>3346.000000</td>\n",
       "      <td>1431.000000</td>\n",
       "      <td>3460.000000</td>\n",
       "      <td>1695516</td>\n",
       "      <td>14084117</td>\n",
       "      <td>1324763</td>\n",
       "    </tr>\n",
       "    <tr>\n",
       "      <th>2025-05-07</th>\n",
       "      <td>3321.399902</td>\n",
       "      <td>1406.000000</td>\n",
       "      <td>3445.100098</td>\n",
       "      <td>3339.800049</td>\n",
       "      <td>1424.400024</td>\n",
       "      <td>3459.500000</td>\n",
       "      <td>3284.100098</td>\n",
       "      <td>1402.699951</td>\n",
       "      <td>3420.600098</td>\n",
       "      <td>3332.000000</td>\n",
       "      <td>1420.900024</td>\n",
       "      <td>3420.600098</td>\n",
       "      <td>2422707</td>\n",
       "      <td>13440169</td>\n",
       "      <td>1477128</td>\n",
       "    </tr>\n",
       "    <tr>\n",
       "      <th>2025-05-08</th>\n",
       "      <td>3323.899902</td>\n",
       "      <td>1407.000000</td>\n",
       "      <td>3448.899902</td>\n",
       "      <td>3366.000000</td>\n",
       "      <td>1420.800049</td>\n",
       "      <td>3477.000000</td>\n",
       "      <td>3299.800049</td>\n",
       "      <td>1398.000000</td>\n",
       "      <td>3428.699951</td>\n",
       "      <td>3310.100098</td>\n",
       "      <td>1404.099976</td>\n",
       "      <td>3448.000000</td>\n",
       "      <td>3204333</td>\n",
       "      <td>16106175</td>\n",
       "      <td>2543591</td>\n",
       "    </tr>\n",
       "    <tr>\n",
       "      <th>2025-05-09</th>\n",
       "      <td>3443.899902</td>\n",
       "      <td>1377.199951</td>\n",
       "      <td>3440.300049</td>\n",
       "      <td>3477.000000</td>\n",
       "      <td>1394.800049</td>\n",
       "      <td>3446.199951</td>\n",
       "      <td>3331.000000</td>\n",
       "      <td>1374.500000</td>\n",
       "      <td>3398.100098</td>\n",
       "      <td>3331.000000</td>\n",
       "      <td>1385.500000</td>\n",
       "      <td>3399.000000</td>\n",
       "      <td>5637694</td>\n",
       "      <td>13668904</td>\n",
       "      <td>2531757</td>\n",
       "    </tr>\n",
       "  </tbody>\n",
       "</table>\n",
       "</div>"
      ],
      "text/plain": [
       "Price             Close                                   High               \\\n",
       "Ticker            LT.NS  RELIANCE.NS       TCS.NS        LT.NS  RELIANCE.NS   \n",
       "Date                                                                          \n",
       "2025-05-05  3330.199951  1431.300049  3454.300049  3350.000000  1439.500000   \n",
       "2025-05-06  3334.000000  1420.900024  3460.000000  3353.000000  1432.000000   \n",
       "2025-05-07  3321.399902  1406.000000  3445.100098  3339.800049  1424.400024   \n",
       "2025-05-08  3323.899902  1407.000000  3448.899902  3366.000000  1420.800049   \n",
       "2025-05-09  3443.899902  1377.199951  3440.300049  3477.000000  1394.800049   \n",
       "\n",
       "Price                            Low                                   Open  \\\n",
       "Ticker           TCS.NS        LT.NS  RELIANCE.NS       TCS.NS        LT.NS   \n",
       "Date                                                                          \n",
       "2025-05-05  3504.500000  3300.699951  1426.900024  3446.399902  3350.000000   \n",
       "2025-05-06  3473.000000  3302.800049  1410.599976  3437.000000  3346.000000   \n",
       "2025-05-07  3459.500000  3284.100098  1402.699951  3420.600098  3332.000000   \n",
       "2025-05-08  3477.000000  3299.800049  1398.000000  3428.699951  3310.100098   \n",
       "2025-05-09  3446.199951  3331.000000  1374.500000  3398.100098  3331.000000   \n",
       "\n",
       "Price                                  Volume                       \n",
       "Ticker      RELIANCE.NS       TCS.NS    LT.NS RELIANCE.NS   TCS.NS  \n",
       "Date                                                                \n",
       "2025-05-05  1431.000000  3450.000000  1947332    12685649  1284443  \n",
       "2025-05-06  1431.000000  3460.000000  1695516    14084117  1324763  \n",
       "2025-05-07  1420.900024  3420.600098  2422707    13440169  1477128  \n",
       "2025-05-08  1404.099976  3448.000000  3204333    16106175  2543591  \n",
       "2025-05-09  1385.500000  3399.000000  5637694    13668904  2531757  "
      ]
     },
     "execution_count": 5,
     "metadata": {},
     "output_type": "execute_result"
    }
   ],
   "source": [
    "print(\"\\nLast 5 rows of the downloaded data:\")\n",
    "data.tail()"
   ]
  },
  {
   "cell_type": "markdown",
   "id": "7c4da3c5-1465-462e-9cd1-98a7599100c8",
   "metadata": {},
   "source": [
    "### 3.3 Get basic information about the DataFrame"
   ]
  },
  {
   "cell_type": "code",
   "execution_count": 6,
   "id": "8e3db86e-e695-41ea-aa81-689680f463f5",
   "metadata": {},
   "outputs": [
    {
     "name": "stdout",
     "output_type": "stream",
     "text": [
      "<class 'pandas.core.frame.DataFrame'>\n",
      "DatetimeIndex: 1325 entries, 2020-01-01 to 2025-05-09\n",
      "Data columns (total 15 columns):\n",
      " #   Column                 Non-Null Count  Dtype  \n",
      "---  ------                 --------------  -----  \n",
      " 0   (Close, LT.NS)         1325 non-null   float64\n",
      " 1   (Close, RELIANCE.NS)   1325 non-null   float64\n",
      " 2   (Close, TCS.NS)        1325 non-null   float64\n",
      " 3   (High, LT.NS)          1325 non-null   float64\n",
      " 4   (High, RELIANCE.NS)    1325 non-null   float64\n",
      " 5   (High, TCS.NS)         1325 non-null   float64\n",
      " 6   (Low, LT.NS)           1325 non-null   float64\n",
      " 7   (Low, RELIANCE.NS)     1325 non-null   float64\n",
      " 8   (Low, TCS.NS)          1325 non-null   float64\n",
      " 9   (Open, LT.NS)          1325 non-null   float64\n",
      " 10  (Open, RELIANCE.NS)    1325 non-null   float64\n",
      " 11  (Open, TCS.NS)         1325 non-null   float64\n",
      " 12  (Volume, LT.NS)        1325 non-null   int64  \n",
      " 13  (Volume, RELIANCE.NS)  1325 non-null   int64  \n",
      " 14  (Volume, TCS.NS)       1325 non-null   int64  \n",
      "dtypes: float64(12), int64(3)\n",
      "memory usage: 165.6 KB\n"
     ]
    }
   ],
   "source": [
    "data.info()"
   ]
  },
  {
   "cell_type": "markdown",
   "id": "6ce0213d-465a-49f9-bd83-691348eda80e",
   "metadata": {},
   "source": [
    "### 3.4  Get descriptive statistics for the adjusted closing prices"
   ]
  },
  {
   "cell_type": "code",
   "execution_count": 7,
   "id": "70b3dc11-eec7-4455-a938-208262ea30a0",
   "metadata": {},
   "outputs": [
    {
     "name": "stdout",
     "output_type": "stream",
     "text": [
      "\n",
      "Descriptive Statistics for Closing Prices:\n"
     ]
    },
    {
     "data": {
      "text/html": [
       "<div>\n",
       "<style scoped>\n",
       "    .dataframe tbody tr th:only-of-type {\n",
       "        vertical-align: middle;\n",
       "    }\n",
       "\n",
       "    .dataframe tbody tr th {\n",
       "        vertical-align: top;\n",
       "    }\n",
       "\n",
       "    .dataframe thead th {\n",
       "        text-align: right;\n",
       "    }\n",
       "</style>\n",
       "<table border=\"1\" class=\"dataframe\">\n",
       "  <thead>\n",
       "    <tr style=\"text-align: right;\">\n",
       "      <th>Ticker</th>\n",
       "      <th>LT.NS</th>\n",
       "      <th>RELIANCE.NS</th>\n",
       "      <th>TCS.NS</th>\n",
       "    </tr>\n",
       "  </thead>\n",
       "  <tbody>\n",
       "    <tr>\n",
       "      <th>count</th>\n",
       "      <td>1325.000000</td>\n",
       "      <td>1325.000000</td>\n",
       "      <td>1325.000000</td>\n",
       "    </tr>\n",
       "    <tr>\n",
       "      <th>mean</th>\n",
       "      <td>2147.607804</td>\n",
       "      <td>1121.283241</td>\n",
       "      <td>3194.518472</td>\n",
       "    </tr>\n",
       "    <tr>\n",
       "      <th>std</th>\n",
       "      <td>965.655597</td>\n",
       "      <td>227.133578</td>\n",
       "      <td>675.225373</td>\n",
       "    </tr>\n",
       "    <tr>\n",
       "      <th>min</th>\n",
       "      <td>654.972046</td>\n",
       "      <td>401.210876</td>\n",
       "      <td>1505.518799</td>\n",
       "    </tr>\n",
       "    <tr>\n",
       "      <th>25%</th>\n",
       "      <td>1410.753540</td>\n",
       "      <td>977.405823</td>\n",
       "      <td>2924.904053</td>\n",
       "    </tr>\n",
       "    <tr>\n",
       "      <th>50%</th>\n",
       "      <td>1864.111572</td>\n",
       "      <td>1149.468384</td>\n",
       "      <td>3245.148682</td>\n",
       "    </tr>\n",
       "    <tr>\n",
       "      <th>75%</th>\n",
       "      <td>3239.649902</td>\n",
       "      <td>1251.150024</td>\n",
       "      <td>3600.478516</td>\n",
       "    </tr>\n",
       "    <tr>\n",
       "      <th>max</th>\n",
       "      <td>3947.300049</td>\n",
       "      <td>1600.900024</td>\n",
       "      <td>4531.868164</td>\n",
       "    </tr>\n",
       "  </tbody>\n",
       "</table>\n",
       "</div>"
      ],
      "text/plain": [
       "Ticker        LT.NS  RELIANCE.NS       TCS.NS\n",
       "count   1325.000000  1325.000000  1325.000000\n",
       "mean    2147.607804  1121.283241  3194.518472\n",
       "std      965.655597   227.133578   675.225373\n",
       "min      654.972046   401.210876  1505.518799\n",
       "25%     1410.753540   977.405823  2924.904053\n",
       "50%     1864.111572  1149.468384  3245.148682\n",
       "75%     3239.649902  1251.150024  3600.478516\n",
       "max     3947.300049  1600.900024  4531.868164"
      ]
     },
     "execution_count": 7,
     "metadata": {},
     "output_type": "execute_result"
    }
   ],
   "source": [
    "print(\"\\nDescriptive Statistics for Closing Prices:\")\n",
    "data['Close'].describe()"
   ]
  },
  {
   "cell_type": "markdown",
   "id": "a20609a5-fefd-42f0-9884-b68b76f03f93",
   "metadata": {},
   "source": [
    "# 4. Data Cleaning and Preparation "
   ]
  },
  {
   "cell_type": "code",
   "execution_count": 8,
   "id": "4b3471a2-a7ba-4ebe-9866-fdcf088c47f9",
   "metadata": {},
   "outputs": [
    {
     "name": "stdout",
     "output_type": "stream",
     "text": [
      "\n",
      "Adjusted Closing Prices DataFrame:\n"
     ]
    },
    {
     "data": {
      "text/html": [
       "<div>\n",
       "<style scoped>\n",
       "    .dataframe tbody tr th:only-of-type {\n",
       "        vertical-align: middle;\n",
       "    }\n",
       "\n",
       "    .dataframe tbody tr th {\n",
       "        vertical-align: top;\n",
       "    }\n",
       "\n",
       "    .dataframe thead th {\n",
       "        text-align: right;\n",
       "    }\n",
       "</style>\n",
       "<table border=\"1\" class=\"dataframe\">\n",
       "  <thead>\n",
       "    <tr style=\"text-align: right;\">\n",
       "      <th>Ticker</th>\n",
       "      <th>LT.NS</th>\n",
       "      <th>RELIANCE.NS</th>\n",
       "      <th>TCS.NS</th>\n",
       "    </tr>\n",
       "    <tr>\n",
       "      <th>Date</th>\n",
       "      <th></th>\n",
       "      <th></th>\n",
       "      <th></th>\n",
       "    </tr>\n",
       "  </thead>\n",
       "  <tbody>\n",
       "    <tr>\n",
       "      <th>2020-01-01</th>\n",
       "      <td>1195.268799</td>\n",
       "      <td>685.105896</td>\n",
       "      <td>1975.343384</td>\n",
       "    </tr>\n",
       "    <tr>\n",
       "      <th>2020-01-02</th>\n",
       "      <td>1227.524048</td>\n",
       "      <td>696.769470</td>\n",
       "      <td>1966.275513</td>\n",
       "    </tr>\n",
       "    <tr>\n",
       "      <th>2020-01-03</th>\n",
       "      <td>1218.171509</td>\n",
       "      <td>697.609070</td>\n",
       "      <td>2005.461182</td>\n",
       "    </tr>\n",
       "    <tr>\n",
       "      <th>2020-01-06</th>\n",
       "      <td>1201.473511</td>\n",
       "      <td>681.429932</td>\n",
       "      <td>2005.279175</td>\n",
       "    </tr>\n",
       "    <tr>\n",
       "      <th>2020-01-07</th>\n",
       "      <td>1204.895264</td>\n",
       "      <td>691.913452</td>\n",
       "      <td>2010.200317</td>\n",
       "    </tr>\n",
       "  </tbody>\n",
       "</table>\n",
       "</div>"
      ],
      "text/plain": [
       "Ticker            LT.NS  RELIANCE.NS       TCS.NS\n",
       "Date                                             \n",
       "2020-01-01  1195.268799   685.105896  1975.343384\n",
       "2020-01-02  1227.524048   696.769470  1966.275513\n",
       "2020-01-03  1218.171509   697.609070  2005.461182\n",
       "2020-01-06  1201.473511   681.429932  2005.279175\n",
       "2020-01-07  1204.895264   691.913452  2010.200317"
      ]
     },
     "execution_count": 8,
     "metadata": {},
     "output_type": "execute_result"
    }
   ],
   "source": [
    "adj_close = data['Close']\n",
    "print(\"\\nAdjusted Closing Prices DataFrame:\")\n",
    "adj_close.head()"
   ]
  },
  {
   "cell_type": "markdown",
   "id": "bc0a3852-96c3-4000-b5c9-67caf8fd7827",
   "metadata": {},
   "source": [
    "# 5. Volume Sold Plot"
   ]
  },
  {
   "cell_type": "code",
   "execution_count": 18,
   "id": "65b244af-116d-4e43-91d7-2ced936966cb",
   "metadata": {},
   "outputs": [
    {
     "data": {
      "image/png": "[encoded data removed]",
      "text/plain": [
       "<Figure size 1200x600 with 1 Axes>"
      ]
     },
     "metadata": {},
     "output_type": "display_data"
    }
   ],
   "source": [
    "ohlc_data = data.copy()  # Create a copy to avoid modifying original data\n",
    "\n",
    "# Plotting\n",
    "plt.figure(figsize=(12, 6))  # Increased figure size to accommodate the new subplot\n",
    "\n",
    "# Plot Volume\n",
    "plt.plot(ohlc_data.index, ohlc_data['Volume']['RELIANCE.NS'], label='RELIANCE.NS Volume', alpha=0.7)\n",
    "plt.plot(ohlc_data.index, ohlc_data['Volume']['LT.NS'], label='LT.NS Volume', alpha=0.7)\n",
    "plt.plot(ohlc_data.index, ohlc_data['Volume']['TCS.NS'], label='TCS.NS Volume', alpha=0.7)\n",
    "plt.title(f\"Volume\")\n",
    "plt.xlabel(\"Date\")\n",
    "plt.ylabel(\"Volume\")\n",
    "plt.grid(True)\n",
    "plt.legend()\n",
    "\n",
    "plt.tight_layout()\n",
    "plt.show()"
   ]
  },
  {
   "cell_type": "markdown",
   "id": "11267c57-afc3-447e-8945-bd99996841f3",
   "metadata": {},
   "source": [
    "## Volume Sold Analysis (2020-2025)\n",
    "\n",
    "### Observation:\n",
    "\n",
    "##### -> The graph displays the trading volume for Reliance Industries (RELIANCE.NS), Larsen & Toubro (LT.NS), and Tata Consultancy Services (TCS.NS) from 2020 to 2025.\n",
    "##### -> RELIANCE.NS generally exhibits a significantly higher trading volume compared to LT.NS and TCS. There are periods of very high volume for RELIANCE.NS, particularly in early 2021.\n",
    "##### -> LT.NS and TCS show relatively lower and more consistent trading volumes throughout the period.\n",
    "\n",
    "### Potential Hypothesis:\n",
    "\n",
    "##### -> Higher trading volume in RELIANCE.NS could indicate greater investor interest and liquidity in this stock. The spikes in volume might be associated with specific news events, market trends, or large transactions.\n",
    "##### -> The comparatively lower and stable volume in LT.NS and TCS might suggest less volatility.\n",
    "\n",
    "### Potential Conclusion:\n",
    "\n",
    "##### -> RELIANCE.NS experienced substantially more trading activity than LT.NS and TCS, implying greater market participation and potential price volatility. The volume spikes observed for RELIANCE.NS warrant further investigation into the specific events that may have triggered them.\n",
    "##### -> LT.NS and TCS demonstrate lower trading volumes, suggesting relatively less liquidity and potentially more stable price movements."
   ]
  },
  {
   "cell_type": "markdown",
   "id": "521e07cf-14a7-4df5-918e-32aca8d3df70",
   "metadata": {},
   "source": [
    "# 6. Price Trend Analysis"
   ]
  },
  {
   "cell_type": "code",
   "execution_count": null,
   "id": "2962688b-37dd-413e-91bc-31c29af175f1",
   "metadata": {},
   "outputs": [],
   "source": [
    "plt.figure(figsize=(12, 6))\n",
    "\n",
    "for ticker in tickers:\n",
    "    plt.plot(adj_close.index, adj_close[ticker], label=ticker)\n",
    "plt.title(\"Adjusted Closing Prices Over Time\")\n",
    "plt.xlabel(\"Date\")\n",
    "plt.ylabel(\"Adjusted Closing Price (INR)\")\n",
    "plt.legend()\n",
    "plt.grid(True)\n",
    "plt.show()"
   ]
  },
  {
   "cell_type": "markdown",
   "id": "6ba3dc13-1f4c-4ab3-a108-3b7060160f9d",
   "metadata": {},
   "source": [
    "## Adjusted Closing Prices Over Time (2020-2025):\n",
    "\n",
    "### Observation: \n",
    "##### -> Initial COVID-19 dip and recovery for all, followed by LT.NS outperformance (driven by sector) then recent decline, gradual TCS growth, and moderate Reliance growth.\n",
    "\n",
    "### Potential Hypothesis: \n",
    "##### -> Pandemic affected all initially; LT.NS's sector grew strongly then corrected; TCS benefited from IT growth; Reliance's diverse business led to moderate gains.\n",
    "\n",
    "### Potential Conclusion: \n",
    "##### -> LT.NS was strongest but volatile due to sector; TCS had steady, sector-driven growth; Reliance was most stable, with lower overall gains."
   ]
  },
  {
   "cell_type": "markdown",
   "id": "79f43ca5-abb6-4d38-b00f-85d1fda1e028",
   "metadata": {},
   "source": [
    "# 7. Normalized Price PLots"
   ]
  },
  {
   "cell_type": "code",
   "execution_count": null,
   "id": "5b9d5ffb-d830-4b8f-bcdf-6a93d4c4da3e",
   "metadata": {},
   "outputs": [],
   "source": [
    "normalized_prices = adj_close / adj_close.iloc[0]\n",
    "plt.figure(figsize=(12, 6))\n",
    "for ticker in tickers:\n",
    "    plt.plot(normalized_prices.index, normalized_prices[ticker], label=ticker)\n",
    "plt.title(\"Normalized Stock Prices (Starting at 1)\")\n",
    "plt.xlabel(\"Date\")\n",
    "plt.ylabel(\"Normalized Price\")\n",
    "plt.yticks([0.2,0.4,0.6,0.8,1.0,1.2,1.4,1.6,1.8,2.0,2.2,2.4,2.6,2.8,3.0])\n",
    "plt.legend()\n",
    "plt.grid(True)\n",
    "plt.show()"
   ]
  },
  {
   "cell_type": "markdown",
   "id": "4daa08c2-d0b7-4f2a-8ae2-05c8e0161705",
   "metadata": {},
   "source": [
    "## Normalized Stock Prices (Starting at 1) (2020-2025):\n",
    "\n",
    "### Observation: \n",
    "##### -> The plot shows LT.NS demonstrating the most substantial overall increase from its initial value, especially from around 2022 onwards. \n",
    "##### -> TCS also shows growth, but it's less pronounced than LT.NS. Reliance shows growth, but it is considerably less than LT.NS and TCS.\n",
    "\n",
    "### Potential Hypothesis: \n",
    "##### -> LT.NS's performance suggests it delivered the highest return relative to its starting price during this per\n",
    "\n",
    "### Potential Conclusion: \n",
    "##### -> Investors seeking higher relative returns over this period would have seen the most significant gains with LT.NS. TCS also provided a reasonable return. Reliance provided the lowest return."
   ]
  },
  {
   "cell_type": "markdown",
   "id": "f4053907-f6a0-4bb6-ad12-23e173350d6b",
   "metadata": {},
   "source": [
    "# 8. Volatility Analysis (Distribution of Daily Returns) "
   ]
  },
  {
   "cell_type": "code",
   "execution_count": null,
   "id": "75a0a1d6-c98d-440a-bfd3-01042ae9dd24",
   "metadata": {},
   "outputs": [],
   "source": [
    "returns = adj_close.pct_change().dropna()\n",
    "\n",
    "color_map = {\n",
    "    \"RELIANCE.NS\": \"tab:blue\",\n",
    "    \"LT.NS\": \"tab:orange\",\n",
    "    \"TCS.NS\": \"tab:green\"\n",
    "}\n",
    "\n",
    "for ticker in tickers:\n",
    "    plt.figure(figsize=(6, 4),dpi=100)\n",
    "    color = color_map.get(ticker)\n",
    "    sns.histplot(returns[ticker], kde=True, color=color)\n",
    "    plt.title(f\"Distribution of Daily Returns - {ticker}\")\n",
    "    plt.xlabel(\"Daily Return\")\n",
    "    plt.ylabel(\"Frequency\")\n",
    "    plt.xticks([-0.10,-0.05,0,0.05,0.10])\n",
    "    plt.grid(True)\n",
    "    plt.tight_layout()\n",
    "    plt.show()"
   ]
  },
  {
   "cell_type": "markdown",
   "id": "b05929b0-2c07-4f72-b982-0e33487aeff7",
   "metadata": {},
   "source": [
    "## Distribution of Daily Returns (2020-2025):\n",
    "\n",
    "### Observation: \n",
    "##### -> All three histograms show that daily returns are concentrated around 0, indicating that most daily price changes are small.\n",
    "##### -> Reliance and TCS distributions appear more peaked around zero, suggesting a higher frequency of very small daily changes compared to LT.NS.\n",
    "##### -> LT.NS shows a wider spread of daily returns, with more occurrences of larger positive and negative changes, indicating higher volatility. The tails of the LT.NS histogram extend further than those of Reliance and TCS.\n",
    "\n",
    "### Potential Hypothesis: \n",
    "##### -> Reliance and TCS exhibit lower volatility, with a larger proportion of very small daily price changes.\n",
    "##### -> LT.NS demonstrates higher volatility, with a greater likelihood of experiencing larger daily price swings.\n",
    "\n",
    "### Potential Conclusion: \n",
    "##### -> Investors in Reliance and TCS experienced more stability in daily returns, with a higher probability of very small changes.\n",
    "##### -> LT.NS carries a higher risk due to the increased frequency of larger daily price fluctuations."
   ]
  },
  {
   "cell_type": "markdown",
   "id": "3de28ca6-4f34-451b-a41f-5a21ae695860",
   "metadata": {},
   "source": [
    "# 9. Volatility Analysis (Box plot for Daily Returns)"
   ]
  },
  {
   "cell_type": "code",
   "execution_count": null,
   "id": "7c2a12f4-9003-4448-98cd-88be8074908a",
   "metadata": {},
   "outputs": [],
   "source": [
    "plt.figure(figsize=(10, 6),dpi = 150)\n",
    "sns.boxplot(data=returns, palette=color_map)\n",
    "plt.title(\"Box Plot of Daily Returns for Each Stock\")\n",
    "plt.xlabel(\"Stock Ticker\")\n",
    "plt.ylabel(\"Daily Return\")\n",
    "plt.grid(True)\n",
    "plt.tight_layout()\n",
    "plt.show()"
   ]
  },
  {
   "cell_type": "markdown",
   "id": "c351516a-f8ad-40ca-8612-a470ca41c72e",
   "metadata": {},
   "source": [
    "### Displaying Information of the Box Plot \n",
    "### [Boxes, Whiskers and Outliers]"
   ]
  },
  {
   "cell_type": "code",
   "execution_count": null,
   "id": "510580c4-347f-4c70-9fee-cf9b03b602e2",
   "metadata": {},
   "outputs": [],
   "source": [
    "def get_boxplot_stats(series):\n",
    "    q1 = series.quantile(0.25)\n",
    "    q3 = series.quantile(0.75)\n",
    "    iqr = q3 - q1\n",
    "    lower_bound = q1 - 1.5 * iqr\n",
    "    upper_bound = q3 + 1.5 * iqr\n",
    "    outliers = series[(series < lower_bound) | (series > upper_bound)].tolist()\n",
    "    return {\n",
    "        'Q1': q1,\n",
    "        'Q3': q3,\n",
    "        'IQR': iqr,\n",
    "        'lower_bound': lower_bound,\n",
    "        'upper_bound': upper_bound,\n",
    "        'outliers': outliers,\n",
    "        'min': series.min(),  # Added minimum\n",
    "        'max': series.max(),  # Added maximum\n",
    "    }\n",
    "\n",
    "# Calculate and print box plot statistics for each stock\n",
    "print(\"\\nBox Plot Statistics (Daily Returns):\")\n",
    "for ticker in tickers:\n",
    "    print(f\"\\n{ticker}:\")\n",
    "    stats = get_boxplot_stats(returns[ticker])\n",
    "    for key, value in stats.items():\n",
    "        if key != 'outliers':\n",
    "            print(f\"  {key}: {value}\")\n",
    "        else:\n",
    "            print(f\"  {key}: {len(value)} outliers\")  # Print the number of outliers"
   ]
  },
  {
   "cell_type": "markdown",
   "id": "505ee201-ddf6-4a9a-bdb9-07a601929257",
   "metadata": {},
   "source": [
    "## Box Plot of Daily Returns for Each Stock (2020-2025):\n",
    "\n",
    "### Observation:\n",
    "\n",
    "##### -> The box plot visualizes the distribution of daily returns for each stock using boxes, whiskers, and outliers.\n",
    "##### -> The height of the boxes (representing the interquartile range or IQR) for Reliance and TCS is smaller than that of LT.NS. This indicates that the middle 50% of daily returns for Reliance and TCS are more concentrated around the median compared to LT.NS.\n",
    "##### -> The whiskers for LT.NS extend farther than those for Reliance and TCS. This suggests a wider range of typical daily returns for LT.NS.\n",
    "##### -> LT.NS has more data points plotted as outliers, indicating a higher frequency of unusually large or small daily returns compared to Reliance and TCS.\n",
    "\n",
    "### Potential Hypothesis:\n",
    "\n",
    "##### ->LT.NS exhibits higher volatility, characterized by a wider spread of both typical and extreme daily returns.\n",
    "##### -> Reliance and TCS demonstrate lower volatility, with daily returns more tightly clustered around the median and fewer extreme values.\n",
    "\n",
    "### Potential Conclusion:\n",
    "\n",
    "##### -> Investors in LT.NS experienced a greater degree of variability in daily returns, including a higher likelihood of both substantial gains and losses.\n",
    "##### -> Reliance and TCS offered more stability in daily performance, with less frequent large fluctuations."
   ]
  },
  {
   "cell_type": "markdown",
   "id": "677d4b0e-8ed6-4f71-ba41-762404093e32",
   "metadata": {},
   "source": [
    "# 10.  Technical Indicator: Simple Moving Average (SMA)"
   ]
  },
  {
   "cell_type": "code",
   "execution_count": null,
   "id": "bb3cc1df-c30f-41a6-a37c-a5b9ae1602bf",
   "metadata": {},
   "outputs": [],
   "source": [
    "def calculate_sma(data, window):\n",
    "    return data.rolling(window=window).mean()\n",
    "\n",
    "window = 50\n",
    "dates = adj_close.index[::60]\n",
    "\n",
    "sma = pd.DataFrame()\n",
    "\n",
    "for ticker in tickers:\n",
    "    sma[ticker] = calculate_sma(adj_close[ticker], window)\n",
    "\n",
    "plt.figure(figsize=(12, 6))\n",
    "for ticker in tickers:\n",
    "    plt.plot(adj_close.index, adj_close[ticker], label=ticker, color=color_map.get(ticker))\n",
    "    plt.plot(sma.index, sma[ticker], label=f'{ticker} SMA {window}', linestyle='--')\n",
    "plt.title(f\"Adjusted Closing Prices with SMAs ({window} days)\")\n",
    "plt.xlabel(\"Date\")\n",
    "plt.ylabel(\"Adjusted Closing Price (INR)\")\n",
    "plt.legend()\n",
    "plt.grid(True)\n",
    "plt.gca().xaxis.set_major_locator(mdates.MonthLocator())\n",
    "plt.gca().xaxis.set_major_formatter(mdates.DateFormatter('%Y-%m'))\n",
    "plt.xticks(dates,rotation=45, ha='right')\n",
    "plt.tight_layout()\n",
    "plt.show()"
   ]
  },
  {
   "cell_type": "markdown",
   "id": "d32a3565-9544-41cd-9793-13ca1ca6c2b8",
   "metadata": {},
   "source": [
    "## Adjusted Closing Prices with SMAs (50-day) (2020-2025):\n",
    "\n",
    "### Observation: \n",
    "##### -> The plot shows adjusted closing prices and their 50-day Simple Moving Averages (SMAs), which smooth short-term fluctuations to reveal longer-term trends. \n",
    "##### -> Periods where the price is above/below the SMA indicate upward/downward trends. LT.NS generally trends above its SMA (indicating overall upward movement), though it dips below in late 2024/25. TCS fluctuates around its SMA. Reliance stays relatively close to its SMA, showing less pronounced trends.\n",
    "\n",
    "### Potential Hypothesis:\n",
    "##### -> The 50-day SMA highlights the medium-term price trend. Price crossovers above/below the SMA may suggest trend changes.\n",
    "\n",
    "\n",
    "### Potential Conclusions:\n",
    "##### -> LT.NS experienced a strong upward trend, especially mid-period, but has recently declined. TCS shows more volatility around its medium-term trend. Reliance exhibits the least volatility, staying near its 50-day average."
   ]
  },
  {
   "cell_type": "markdown",
   "id": "44993bea-4f9b-496f-9de6-5dd60da4f69f",
   "metadata": {},
   "source": [
    "# Final Conclusion\n",
    "\n",
    "#### This analysis of Reliance Industries (RELIANCE.NS), Larsen & Toubro (LT.NS), and Tata Consultancy Services (TCS.NS) reveals distinct performance and risk profiles over the period from 2020 to mid-2025.\n",
    "\n",
    "##### -> Larsen & Toubro (LT.NS) demonstrated the strongest overall growth, suggesting it was significantly influenced by favorable sector-specific trends (likely in construction and infrastructure) during this time. However, LT.NS also exhibited the highest volatility, indicating a greater degree of risk due to larger daily price swings and more frequent extreme returns.\n",
    "\n",
    "##### -> Tata Consultancy Services (TCS.NS) showed steady, moderate growth, reflecting the expansion of the IT sector. TCS displayed moderate volatility, indicating a more stable investment compared to LT.NS.\n",
    "\n",
    "##### -> Reliance Industries (RELIANCE.NS) offered the most stability, characterized by lower volatility and more consistent daily returns. However, Reliance also provided the lowest overall growth among the three stocks.\n",
    "\n",
    "##### In summary, LT.NS presented the highest potential return but also carried the greatest risk, driven by sector-specific factors. TCS offered a balance of steady growth and moderate risk, aligning with the IT sector's performance. Reliance provided the most stability but with the least growth."
   ]
  },
  {
   "cell_type": "code",
   "execution_count": null,
   "id": "ad5746dd-f4c9-4c89-a834-640846ecae1b",
   "metadata": {},
   "outputs": [],
   "source": []
  }
 ],
 "metadata": {
  "kernelspec": {
   "display_name": "Python 3 (ipykernel)",
   "language": "python",
   "name": "python3"
  },
  "language_info": {
   "codemirror_mode": {
    "name": "ipython",
    "version": 3
   },
   "file_extension": ".py",
   "mimetype": "text/x-python",
   "name": "python",
   "nbconvert_exporter": "python",
   "pygments_lexer": "ipython3",
   "version": "3.10.12"
  }
 },
 "nbformat": 4,
 "nbformat_minor": 5
}
